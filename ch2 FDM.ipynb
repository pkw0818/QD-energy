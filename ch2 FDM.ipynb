{
 "cells": [
  {
   "cell_type": "code",
   "execution_count": 1,
   "metadata": {},
   "outputs": [],
   "source": [
    "%matplotlib inline  \n",
    "import numpy as np      ### 수학 모듈 (numpy)를 불러와 np로 호출\n",
    "import matplotlib.pyplot as plt   ### 그래프 그리는 모듈 matplot.pyplot을 불러와 plt로 호출\n",
    "from scipy.sparse import csr_matrix, eye, diags, spdiags  ### sparse matrix  메모리 줄임\n",
    "from scipy.sparse.linalg import eigs, spsolve"
   ]
  },
  {
   "cell_type": "markdown",
   "metadata": {},
   "source": [
    "## List"
   ]
  },
  {
   "cell_type": "code",
   "execution_count": 67,
   "metadata": {},
   "outputs": [
    {
     "ename": "TypeError",
     "evalue": "'int' object is not iterable",
     "output_type": "error",
     "traceback": [
      "\u001b[1;31m---------------------------------------------------------------------------\u001b[0m",
      "\u001b[1;31mTypeError\u001b[0m                                 Traceback (most recent call last)",
      "\u001b[1;32m<ipython-input-67-4bfa0dda1842>\u001b[0m in \u001b[0;36m<module>\u001b[1;34m\u001b[0m\n\u001b[0;32m      1\u001b[0m \u001b[0ma\u001b[0m \u001b[1;33m=\u001b[0m \u001b[1;33m[\u001b[0m\u001b[1;36m1\u001b[0m\u001b[1;33m,\u001b[0m\u001b[1;36m2\u001b[0m\u001b[1;33m,\u001b[0m\u001b[1;36m3\u001b[0m\u001b[1;33m,\u001b[0m\u001b[1;36m4\u001b[0m\u001b[1;33m,\u001b[0m\u001b[1;36m5\u001b[0m\u001b[1;33m]\u001b[0m\u001b[1;33m\u001b[0m\u001b[1;33m\u001b[0m\u001b[0m\n\u001b[1;32m----> 2\u001b[1;33m \u001b[0ma\u001b[0m \u001b[1;33m+=\u001b[0m \u001b[1;36m5\u001b[0m\u001b[1;33m\u001b[0m\u001b[1;33m\u001b[0m\u001b[0m\n\u001b[0m",
      "\u001b[1;31mTypeError\u001b[0m: 'int' object is not iterable"
     ]
    }
   ],
   "source": [
    "a = [1,2,3,4,5]\n",
    "a += 5"
   ]
  },
  {
   "cell_type": "code",
   "execution_count": 68,
   "metadata": {},
   "outputs": [
    {
     "data": {
      "text/plain": [
       "[1, 2, 3, 4, 5, 1, 2, 3, 4, 5]"
      ]
     },
     "execution_count": 68,
     "metadata": {},
     "output_type": "execute_result"
    }
   ],
   "source": [
    "a + a"
   ]
  },
  {
   "cell_type": "code",
   "execution_count": 69,
   "metadata": {},
   "outputs": [
    {
     "data": {
      "text/plain": [
       "[1, 2, 3, 4, 5, 1, 2, 3, 4, 5, 1, 2, 3, 4, 5]"
      ]
     },
     "execution_count": 69,
     "metadata": {},
     "output_type": "execute_result"
    }
   ],
   "source": [
    "a * 3"
   ]
  },
  {
   "cell_type": "code",
   "execution_count": 70,
   "metadata": {},
   "outputs": [
    {
     "data": {
      "text/plain": [
       "list"
      ]
     },
     "execution_count": 70,
     "metadata": {},
     "output_type": "execute_result"
    }
   ],
   "source": [
    "type(a)"
   ]
  },
  {
   "cell_type": "markdown",
   "metadata": {},
   "source": [
    "## numpy array\n",
    "\n",
    "np.zeros, np.ones, np.arange, np.array 등 np로 만들어진 형태는 모두가 np array임"
   ]
  },
  {
   "cell_type": "code",
   "execution_count": 71,
   "metadata": {},
   "outputs": [
    {
     "data": {
      "text/plain": [
       "numpy.ndarray"
      ]
     },
     "execution_count": 71,
     "metadata": {},
     "output_type": "execute_result"
    }
   ],
   "source": [
    "b = np.array(a)\n",
    "type(b)"
   ]
  },
  {
   "cell_type": "code",
   "execution_count": 72,
   "metadata": {},
   "outputs": [
    {
     "data": {
      "text/plain": [
       "array([ 6,  7,  8,  9, 10])"
      ]
     },
     "execution_count": 72,
     "metadata": {},
     "output_type": "execute_result"
    }
   ],
   "source": [
    "b += 5\n",
    "b"
   ]
  },
  {
   "cell_type": "code",
   "execution_count": 73,
   "metadata": {},
   "outputs": [
    {
     "data": {
      "text/plain": [
       "array([12, 14, 16, 18, 20])"
      ]
     },
     "execution_count": 73,
     "metadata": {},
     "output_type": "execute_result"
    }
   ],
   "source": [
    "b*2"
   ]
  },
  {
   "cell_type": "markdown",
   "metadata": {},
   "source": [
    "## indexing과 slicing"
   ]
  },
  {
   "cell_type": "code",
   "execution_count": 74,
   "metadata": {},
   "outputs": [
    {
     "data": {
      "text/plain": [
       "array([0, 1, 2, 3, 4, 5, 6, 7, 8, 9])"
      ]
     },
     "execution_count": 74,
     "metadata": {},
     "output_type": "execute_result"
    }
   ],
   "source": [
    "a = np.arange(10)\n",
    "a"
   ]
  },
  {
   "cell_type": "code",
   "execution_count": 75,
   "metadata": {},
   "outputs": [
    {
     "name": "stdout",
     "output_type": "stream",
     "text": [
      "0 1 4 8 9\n"
     ]
    }
   ],
   "source": [
    "print (a[0], a[1], a[4], a[-2], a[-1])"
   ]
  },
  {
   "cell_type": "code",
   "execution_count": 76,
   "metadata": {},
   "outputs": [
    {
     "name": "stdout",
     "output_type": "stream",
     "text": [
      "[2 3 4]\n",
      "[0 1 2 3]\n",
      "[7 8 9]\n"
     ]
    }
   ],
   "source": [
    "print (a[2:5])\n",
    "print (a[:4])\n",
    "print (a[-3:])"
   ]
  },
  {
   "cell_type": "markdown",
   "metadata": {},
   "source": [
    "### 2차원 배열"
   ]
  },
  {
   "cell_type": "code",
   "execution_count": 77,
   "metadata": {},
   "outputs": [
    {
     "data": {
      "text/plain": [
       "array([[ 0,  1,  2,  3,  4,  5,  6,  7,  8,  9],\n",
       "       [10, 11, 12, 13, 14, 15, 16, 17, 18, 19],\n",
       "       [20, 21, 22, 23, 24, 25, 26, 27, 28, 29],\n",
       "       [30, 31, 32, 33, 34, 35, 36, 37, 38, 39],\n",
       "       [40, 41, 42, 43, 44, 45, 46, 47, 48, 49],\n",
       "       [50, 51, 52, 53, 54, 55, 56, 57, 58, 59],\n",
       "       [60, 61, 62, 63, 64, 65, 66, 67, 68, 69],\n",
       "       [70, 71, 72, 73, 74, 75, 76, 77, 78, 79],\n",
       "       [80, 81, 82, 83, 84, 85, 86, 87, 88, 89],\n",
       "       [90, 91, 92, 93, 94, 95, 96, 97, 98, 99]])"
      ]
     },
     "execution_count": 77,
     "metadata": {},
     "output_type": "execute_result"
    }
   ],
   "source": [
    "b = np.arange(100)\n",
    "b = b.reshape(10,10)\n",
    "b"
   ]
  },
  {
   "cell_type": "code",
   "execution_count": 78,
   "metadata": {},
   "outputs": [
    {
     "data": {
      "text/plain": [
       "79"
      ]
     },
     "execution_count": 78,
     "metadata": {},
     "output_type": "execute_result"
    }
   ],
   "source": [
    "b[-3,-1]"
   ]
  },
  {
   "cell_type": "code",
   "execution_count": 80,
   "metadata": {},
   "outputs": [
    {
     "data": {
      "text/plain": [
       "array([[23, 24],\n",
       "       [33, 34],\n",
       "       [43, 44],\n",
       "       [53, 54],\n",
       "       [63, 64]])"
      ]
     },
     "execution_count": 80,
     "metadata": {},
     "output_type": "execute_result"
    }
   ],
   "source": [
    "b[2:7, 3:5]"
   ]
  },
  {
   "cell_type": "markdown",
   "metadata": {},
   "source": [
    "### 3차원 배열"
   ]
  },
  {
   "cell_type": "code",
   "execution_count": 84,
   "metadata": {},
   "outputs": [
    {
     "data": {
      "text/plain": [
       "(7, 512, 512)"
      ]
     },
     "execution_count": 84,
     "metadata": {},
     "output_type": "execute_result"
    }
   ],
   "source": [
    "c = np.random.uniform(0, 100, (7,512,512))\n",
    "c.shape"
   ]
  },
  {
   "cell_type": "code",
   "execution_count": 86,
   "metadata": {},
   "outputs": [
    {
     "data": {
      "text/plain": [
       "array([[49.86092227, 51.87223381, 67.60240377, 14.62336464, 37.79305803],\n",
       "       [23.11338647, 82.80700107, 26.09720729, 95.12051797, 55.31619556],\n",
       "       [32.25929005, 77.32253126, 85.86658076, 33.27010927, 63.50828143],\n",
       "       [25.15805621, 99.76001548, 65.02434974, 76.89882809, 12.08578475],\n",
       "       [82.7335202 , 99.44255935,  7.88717732, 76.16799304,  7.15299963]])"
      ]
     },
     "execution_count": 86,
     "metadata": {},
     "output_type": "execute_result"
    }
   ],
   "source": [
    "c[0,:5,:5]"
   ]
  },
  {
   "cell_type": "markdown",
   "metadata": {},
   "source": [
    "### enumerate"
   ]
  },
  {
   "cell_type": "code",
   "execution_count": 61,
   "metadata": {},
   "outputs": [
    {
     "name": "stdout",
     "output_type": "stream",
     "text": [
      "야만용사\n",
      "부두술사\n",
      "악마사냥꾼\n",
      "마법사\n"
     ]
    }
   ],
   "source": [
    "a = ['야만용사', '부두술사', '악마사냥꾼', '마법사']\n",
    "for i in a:\n",
    "    print (i)"
   ]
  },
  {
   "cell_type": "code",
   "execution_count": 62,
   "metadata": {},
   "outputs": [
    {
     "name": "stdout",
     "output_type": "stream",
     "text": [
      "0 야만용사\n",
      "1 부두술사\n",
      "2 악마사냥꾼\n",
      "3 마법사\n"
     ]
    }
   ],
   "source": [
    "for idx, value in enumerate(a):\n",
    "    print (idx, value)"
   ]
  },
  {
   "cell_type": "markdown",
   "metadata": {},
   "source": [
    "### Parameter 정의"
   ]
  },
  {
   "cell_type": "code",
   "execution_count": 2,
   "metadata": {},
   "outputs": [],
   "source": [
    "boundary = 'Dirichlet'  # or 'Neumann'\n",
    "hbar = 6.626e-34/2/np.pi\n",
    "e = 1.6e-19\n",
    "eo = 8.85e-12\n",
    "er = 9\n",
    "emass = 9.1e-31\n",
    "me = 0.13   # CdSe me=0.13 mh=0.45       # CdS me:0.21 mh:0.8\n",
    "mh = 0.45   # CdTe me=0.1  mh=0.4\n",
    "Ep=20                     # CdS: me.18 mh0.6 Eg2.45       VBO=0.52    qX=4.79 er=8.6"
   ]
  },
  {
   "cell_type": "markdown",
   "metadata": {},
   "source": [
    "## Define Geometry"
   ]
  },
  {
   "cell_type": "code",
   "execution_count": 3,
   "metadata": {},
   "outputs": [],
   "source": [
    "materials = ['ZnS', 'CdSe']\n",
    "radius = [4e-9, 2e-9]\n",
    "dr = 2e-10\n",
    "dz = 2e-10\n",
    "\n",
    "ro = radius[0] + 2e-9\n",
    "r = np.arange(0, ro+dr, dr) \n",
    "zo = radius[0]*2 + 4e-9\n",
    "z = np.arange(0, zo + dz, dz) \n",
    "\n",
    "m = r.size\n",
    "n = z.size        "
   ]
  },
  {
   "cell_type": "markdown",
   "metadata": {},
   "source": [
    "**2차원 geometry 만들기**"
   ]
  },
  {
   "cell_type": "code",
   "execution_count": 87,
   "metadata": {},
   "outputs": [
    {
     "name": "stdout",
     "output_type": "stream",
     "text": [
      "4e-09\n",
      "2e-09\n"
     ]
    }
   ],
   "source": [
    "cb = np.ones(shape=(m,n)) * 0\n",
    "vb = np.ones(shape=(m,n)) * 10\n",
    "er = np.ones(shape=(m,n)) * 2.5\n",
    "me = np.ones(shape=(m,n)) / 0.13\n",
    "mh = np.ones(shape=(m,n)) / 0.45\n",
    "geo = np.zeros(shape=(m,n))\n",
    "idx = 0\n",
    "for rad in radius:\n",
    "    print (rad)\n",
    "    idx += 1\n",
    "    for ridx, ra in enumerate(r):\n",
    "        for zidx, zz  in enumerate(z):\n",
    "            if ra**2 + (zz-(zo/2))**2  <= rad**2 :\n",
    "                geo[ridx, zidx] = idx  # outmost"
   ]
  },
  {
   "cell_type": "code",
   "execution_count": 91,
   "metadata": {},
   "outputs": [
    {
     "data": {
      "text/plain": [
       "<matplotlib.colorbar.Colorbar at 0x296dec534a8>"
      ]
     },
     "execution_count": 91,
     "metadata": {},
     "output_type": "execute_result"
    },
    {
     "data": {
      "image/png": "[encoded data removed]",
      "text/plain": [
       "<Figure size 288x432 with 2 Axes>"
      ]
     },
     "metadata": {
      "needs_background": "light"
     },
     "output_type": "display_data"
    }
   ],
   "source": [
    "plt.figure(figsize = (4,6))\n",
    "plt.contourf(geo.T)\n",
    "plt.colorbar()"
   ]
  },
  {
   "cell_type": "markdown",
   "metadata": {},
   "source": [
    "# Class 익히기\n",
    "\n",
    "https://wikidocs.net/28"
   ]
  },
  {
   "cell_type": "code",
   "execution_count": 8,
   "metadata": {},
   "outputs": [],
   "source": [
    "class Material:\n",
    "    def __init__(self, name):\n",
    "        self.name = name\n",
    "        if name == 'CdSe':\n",
    "            self.me = 0.13  #0.13\n",
    "            self.mh = 0.7 #0.7\n",
    "            self.er = 9.3 #9.3\n",
    "            self.Eg = 1.74 # 1.74\n",
    "            self.Ep = 23\n",
    "            self.k = np.sqrt(self.Ep/2)\n",
    "            self.cb = 4.95 #4.95\n",
    "            self.vb = self.Eg + self.cb\n",
    "        \n",
    "        elif name == 'ZnS':\n",
    "            self.me = 0.13 # 0.13\n",
    "            self.mh = 0.45  # 0.45\n",
    "            self.er = 8.6\n",
    "            self.Eg = 3.7  # 3.9  # 3.68\n",
    "            self.Ep = 23\n",
    "            self.k = np.sqrt(self.Ep/2)\n",
    "            self.cb = 3.95 # 3.95\n",
    "            self.vb = self.Eg + self.cb"
   ]
  },
  {
   "cell_type": "code",
   "execution_count": 9,
   "metadata": {},
   "outputs": [
    {
     "name": "stdout",
     "output_type": "stream",
     "text": [
      "1.74\n",
      "0.13\n",
      "5.44\n",
      "1.74\n"
     ]
    }
   ],
   "source": [
    "A = Material('CdSe')\n",
    "B = Material('ZnS')\n",
    "C = Material('CdSe')\n",
    "print (A.Eg)\n",
    "print (B.me)\n",
    "print (A.Eg + B.Eg)\n",
    "print (C.Eg)"
   ]
  },
  {
   "cell_type": "markdown",
   "metadata": {},
   "source": [
    "A, B, C는 객체\n",
    "\n",
    "객체를 정의할때는\n",
    "\n",
    "#### 객체이름 = class이름(initial value)"
   ]
  },
  {
   "cell_type": "code",
   "execution_count": 93,
   "metadata": {},
   "outputs": [
    {
     "name": "stdout",
     "output_type": "stream",
     "text": [
      "ZnS\n",
      "CdSe\n",
      "Bulk Eg = 1.74\n"
     ]
    }
   ],
   "source": [
    "temp1 = 0\n",
    "temp2 = 10\n",
    "mater = []\n",
    "for key in materials:\n",
    "    print (key)\n",
    "    temp = Material(key) # 객체를 정의\n",
    "    mater.append(temp)   # list의 원소로 Material 객체를 받음\n",
    "    if temp.cb > temp1:\n",
    "        temp1 = temp.cb + 0\n",
    "    if temp.vb < temp2:\n",
    "        temp2 = temp.vb + 0\n",
    "Eg = temp2-temp1\n",
    "print ('Bulk Eg = {}'.format(round(Eg, 2)))"
   ]
  },
  {
   "cell_type": "code",
   "execution_count": 94,
   "metadata": {},
   "outputs": [
    {
     "data": {
      "text/plain": [
       "3.7"
      ]
     },
     "execution_count": 94,
     "metadata": {},
     "output_type": "execute_result"
    }
   ],
   "source": [
    "mater[0].Eg"
   ]
  },
  {
   "cell_type": "code",
   "execution_count": 95,
   "metadata": {},
   "outputs": [],
   "source": [
    "for idx in range(len(radius)):\n",
    "    temp = idx + 1\n",
    "    for i in range(m):\n",
    "        for j in range(n):\n",
    "            if geo[i,j] == temp:   # Boundary  CdS\n",
    "                er[i,j] = mater[idx].er\n",
    "                cb[i,j] = 0 - mater[idx].cb\n",
    "                vb[i,j] = mater[idx].vb\n",
    "                me[i,j] = 1 / mater[idx].me\n",
    "                mh[i,j] = 1 / mater[idx].mh"
   ]
  },
  {
   "cell_type": "code",
   "execution_count": 96,
   "metadata": {},
   "outputs": [
    {
     "data": {
      "text/plain": [
       "<matplotlib.colorbar.Colorbar at 0x296def89828>"
      ]
     },
     "execution_count": 96,
     "metadata": {},
     "output_type": "execute_result"
    },
    {
     "data": {
      "image/png": "[encoded data removed]",
      "text/plain": [
       "<Figure size 288x432 with 2 Axes>"
      ]
     },
     "metadata": {
      "needs_background": "light"
     },
     "output_type": "display_data"
    }
   ],
   "source": [
    "plt.figure(figsize = (4,6))\n",
    "plt.contourf(cb.T)\n",
    "plt.colorbar()"
   ]
  },
  {
   "cell_type": "code",
   "execution_count": 97,
   "metadata": {},
   "outputs": [
    {
     "data": {
      "text/plain": [
       "[<matplotlib.lines.Line2D at 0x296deff9780>]"
      ]
     },
     "execution_count": 97,
     "metadata": {},
     "output_type": "execute_result"
    },
    {
     "data": {
      "image/png": "[encoded data removed]",
      "text/plain": [
       "<Figure size 432x288 with 1 Axes>"
      ]
     },
     "metadata": {
      "needs_background": "light"
     },
     "output_type": "display_data"
    }
   ],
   "source": [
    "plt.plot(cb[0,:])\n",
    "plt.plot(-vb[0,:])"
   ]
  },
  {
   "cell_type": "markdown",
   "metadata": {},
   "source": [
    "reshape : 2차원 (m, n) array를 1차원 m*n array로 바꿈"
   ]
  },
  {
   "cell_type": "code",
   "execution_count": 15,
   "metadata": {},
   "outputs": [],
   "source": [
    "cb_array = cb.reshape(m*n, 1) \n",
    "vb_array = vb.reshape(m*n, 1) \n",
    "er_array = er.reshape(m*n,1)\n",
    "me_array = me.reshape(m*n,1)\n",
    "mh_array = mh.reshape(m*n,1)"
   ]
  },
  {
   "cell_type": "markdown",
   "metadata": {},
   "source": [
    "## 3D Hamiltonian from \n",
    "\n",
    "https://www.sciencedirect.com/science/article/pii/S0010465503004934\n",
    "\n",
    "<img src = 'https://ars.els-cdn.com/content/image/1-s2.0-S0010465503004934-gr003.gif'>"
   ]
  },
  {
   "cell_type": "markdown",
   "metadata": {},
   "source": [
    "## Solve Schrodinger Equation in 3D\n",
    "\n",
    "## $$ \\biggl(-\\frac{\\nabla^2}{2m} + V\\biggr)\\psi = E\\psi $$\n",
    "\n",
    "## $$ \\frac{-h^2}{2}\\nabla \\cdot \\biggl(\\frac{1}{m(r)}\\nabla\\psi(r) \\biggr) + V(r) \\psi(r) = E\\psi(r)$$\n",
    "\n",
    "## $$ \\psi = F(\\rho, z)e^{iL\\phi} $$\n",
    "\n",
    "## $$ \\frac{-h^2}{2}\\left[\\frac{1}{\\rho}\\frac{1}{m}\\frac{\\delta F}{\\delta\\rho} \n",
    "+ \\frac{\\delta}{\\delta \\rho}\\biggl(\\frac{1}{m}\\frac{\\delta F}{\\delta\\rho}\\biggr) \n",
    "+ \\frac{-L^2}{m \\rho^2}F \n",
    "+ \\frac{\\delta}{\\delta z}\\biggl(\\frac{1}{m}\\frac{\\delta F}{\\delta z}\\biggr) \n",
    " \\right] + VF = EF $$   "
   ]
  },
  {
   "cell_type": "markdown",
   "metadata": {},
   "source": [
    " ## 방법1 \n",
    " \n",
    " ### $$ \\frac{-h^2}{2}\\left[\\frac{1}{m\\rho}\\frac{F(\\rho+a, z) - F(\\rho-a, z)}{2a} + \\biggl(-\\frac{1}{m(\\rho-a, z)}\\frac{F(\\rho, z) - F(\\rho-a, z)}{a^2} + \\frac{1}{m(\\rho+a, z)}\\frac{F(\\rho+a, z) - F(\\rho, z)}{a^2}\\biggr) \n",
    "+ \\frac{-L^2}{\\rho^2}F(\\rho,z) \n",
    "+ \\biggl(-\\frac{1}{m(\\rho, z-b)}\\frac{F(\\rho, z) - F(\\rho, z-b)}{b^2} + \\frac{1}{m(\\rho, z+b)}\\frac{F(\\rho, z+b) - F(\\rho, z)}{b^2}\\biggr) \n",
    "\\right] + VF = EF $$"
   ]
  },
  {
   "cell_type": "markdown",
   "metadata": {},
   "source": [
    "즉, 이것을 구현하면 된다.\n",
    "\n",
    "$$ F(\\rho,z)\\biggl(-\\frac{1}{m(\\rho-a, z)a^2}-\\frac{1}{m(\\rho+a, z)a^2}-\\frac{1}{m(\\rho, z-b)b^2}-\\frac{1}{m(\\rho, z+b)b^2} \\biggr) $$\n",
    " \n",
    " $$ F(\\rho+a,z)\\biggl(\\frac{1}{2m\\rho a} + \\frac{1}{m(\\rho+a,z)a^2} \\biggr)$$\n",
    " \n",
    " $$ F(\\rho-a,z)\\biggl(\\frac{1}{2m\\rho a} + \\frac{1}{m(\\rho-a,z)a^2} \\biggr)$$\n",
    " \n",
    " $$ F(\\rho, z+b)\\biggl(\\frac{1}{m(\\rho, z+b)b^2} \\biggr) $$\n",
    " \n",
    "  $$ F(\\rho, z-b)\\biggl(\\frac{1}{m(\\rho, z-b)b^2} \\biggr) $$"
   ]
  },
  {
   "cell_type": "markdown",
   "metadata": {},
   "source": [
    "## 방법2\n",
    "\n",
    "## $$ \\frac{-h^2}{2}\\left[\\frac{1}{\\rho}\\frac{1}{m}\\frac{\\delta F}{\\delta\\rho} \n",
    "+ \\frac{\\delta}{\\delta \\rho}\\biggl(\\frac{1}{m}\\frac{\\delta F}{\\delta\\rho}\\biggr) \n",
    "+ \\frac{-L^2}{m \\rho^2}F \n",
    "+ \\frac{\\delta}{\\delta z}\\biggl(\\frac{1}{m}\\frac{\\delta F}{\\delta z}\\biggr) \n",
    " \\right] + VF = EF $$   \n",
    "\n",
    "### $$ \\biggl(\\frac{\\delta^2 F}{\\delta \\rho^2} + \\frac{\\delta^2 F}{\\delta z^2} \\biggr)\\frac{1}{m}$$\n",
    "\n",
    "### $$ \\frac{\\delta\\frac{1}{m}}{\\delta \\rho}\\cdot \\frac{\\delta F}{\\delta \\rho} +\\frac{\\delta\\frac{1}{m}}{\\delta z}\\cdot \\frac{\\delta F}{\\delta z}$$\n",
    "\n",
    "### $$ \\frac{1}{\\rho m}\\frac{\\delta F}{\\delta \\rho} $$"
   ]
  },
  {
   "cell_type": "markdown",
   "metadata": {},
   "source": [
    "### 1. Laplacian \n",
    "#### $$ \\biggl(\\frac{\\delta^2 F}{\\delta \\rho^2} + \\frac{\\delta^2 F}{\\delta z^2} \\biggr)\\frac{1}{m}$$\n",
    "\n",
    "\n",
    "r 방향 mesh : dr\n",
    "\n",
    "z 방향 mesh : dz"
   ]
  },
  {
   "cell_type": "code",
   "execution_count": 16,
   "metadata": {},
   "outputs": [
    {
     "data": {
      "text/plain": [
       "array([[-5.0e+19,  2.5e+19,  0.0e+00, ...,  0.0e+00,  0.0e+00,  0.0e+00],\n",
       "       [ 2.5e+19, -5.0e+19,  2.5e+19, ...,  0.0e+00,  0.0e+00,  0.0e+00],\n",
       "       [ 0.0e+00,  2.5e+19, -5.0e+19, ...,  0.0e+00,  0.0e+00,  0.0e+00],\n",
       "       ...,\n",
       "       [ 0.0e+00,  0.0e+00,  0.0e+00, ..., -5.0e+19,  2.5e+19,  0.0e+00],\n",
       "       [ 0.0e+00,  0.0e+00,  0.0e+00, ...,  2.5e+19, -5.0e+19,  2.5e+19],\n",
       "       [ 0.0e+00,  0.0e+00,  0.0e+00, ...,  0.0e+00,  2.5e+19, -5.0e+19]])"
      ]
     },
     "execution_count": 16,
     "metadata": {},
     "output_type": "execute_result"
    }
   ],
   "source": [
    "mat = np.zeros((m*n, m*n))\n",
    "matZ = eye(n)*(-2) +eye(n,k=1) +eye(n, k=-1)\n",
    "matZ /= (dz**2)\n",
    "matZ = matZ.todense()\n",
    "\n",
    "for i in range(m):\n",
    "    mat[n*i:n*(1+i), n*i:n*(1+i)] = matZ\n",
    "mat"
   ]
  },
  {
   "cell_type": "code",
   "execution_count": 17,
   "metadata": {},
   "outputs": [
    {
     "data": {
      "text/plain": [
       "matrix([[-2.,  0.,  0., ...,  0.,  0.,  0.],\n",
       "        [ 0., -2.,  0., ...,  0.,  0.,  0.],\n",
       "        [ 0.,  0., -2., ...,  0.,  0.,  0.],\n",
       "        ...,\n",
       "        [ 0.,  0.,  0., ..., -2.,  0.,  0.],\n",
       "        [ 0.,  0.,  0., ...,  0., -2.,  0.],\n",
       "        [ 0.,  0.,  0., ...,  0.,  0., -2.]])"
      ]
     },
     "execution_count": 17,
     "metadata": {},
     "output_type": "execute_result"
    }
   ],
   "source": [
    "matR = eye(m*n)*(-2) +eye(m*n,k=n) +eye(m*n, k=-n)\n",
    "matR.todense()"
   ]
  },
  {
   "cell_type": "code",
   "execution_count": 18,
   "metadata": {},
   "outputs": [
    {
     "data": {
      "text/plain": [
       "matrix([[1., 0., 0., ..., 0., 0., 0.],\n",
       "        [0., 1., 0., ..., 0., 0., 0.],\n",
       "        [0., 0., 1., ..., 0., 0., 0.],\n",
       "        ...,\n",
       "        [0., 0., 0., ..., 1., 0., 0.],\n",
       "        [0., 0., 0., ..., 0., 1., 0.],\n",
       "        [0., 0., 0., ..., 0., 0., 1.]])"
      ]
     },
     "execution_count": 18,
     "metadata": {},
     "output_type": "execute_result"
    }
   ],
   "source": [
    "matR[0:n, n:2*n].todense()"
   ]
  },
  {
   "cell_type": "code",
   "execution_count": 19,
   "metadata": {},
   "outputs": [
    {
     "data": {
      "text/plain": [
       "<matplotlib.contour.QuadContourSet at 0x296d1540160>"
      ]
     },
     "execution_count": 19,
     "metadata": {},
     "output_type": "execute_result"
    },
    {
     "data": {
      "image/png": "[encoded data removed]",
      "text/plain": [
       "<Figure size 432x288 with 1 Axes>"
      ]
     },
     "metadata": {
      "needs_background": "light"
     },
     "output_type": "display_data"
    }
   ],
   "source": [
    "matR /= (dr**2)\n",
    "mat = mat + matR\n",
    "plt.contourf(mat[:100,:100])"
   ]
  },
  {
   "cell_type": "code",
   "execution_count": 20,
   "metadata": {},
   "outputs": [],
   "source": [
    "term1 = np.zeros((m*n,m*n))\n",
    "\n",
    "for i in range(m*n):\n",
    "    term1[i, :] = mat[i,:] * me_array[i,0]"
   ]
  },
  {
   "cell_type": "markdown",
   "metadata": {},
   "source": [
    "## 2. \n",
    "\n",
    "### $$ \\frac{\\delta\\frac{1}{m}}{\\delta \\rho}\\cdot \\frac{\\delta F}{\\delta \\rho} $$"
   ]
  },
  {
   "cell_type": "markdown",
   "metadata": {},
   "source": [
    "### $$ \\frac{\\delta F}{\\delta \\rho}\\cdot \\frac{\\delta}{\\delta \\rho} (coefficient \\space array) $$"
   ]
  },
  {
   "cell_type": "code",
   "execution_count": 21,
   "metadata": {},
   "outputs": [],
   "source": [
    "dFdrho = eye(m*n, k=n)+eye(m*n, k=-n)*-1\n",
    "dFdrho /= (2*dr)\n",
    "dFdrho = dFdrho.todense()"
   ]
  },
  {
   "cell_type": "code",
   "execution_count": 22,
   "metadata": {},
   "outputs": [
    {
     "data": {
      "text/plain": [
       "(1984, 1984)"
      ]
     },
     "execution_count": 22,
     "metadata": {},
     "output_type": "execute_result"
    }
   ],
   "source": [
    "dFdrho.shape"
   ]
  },
  {
   "cell_type": "code",
   "execution_count": 23,
   "metadata": {},
   "outputs": [],
   "source": [
    "dcdrho = eye(m*n,k=n)+eye(m*n,k=-n)*-1 # for calculating coefficient matrix w different boundary condition\n",
    "dcdrho /= (2*dr)\n",
    "dcdrho *= me_array"
   ]
  },
  {
   "cell_type": "code",
   "execution_count": 24,
   "metadata": {},
   "outputs": [
    {
     "data": {
      "text/plain": [
       "(1984, 1)"
      ]
     },
     "execution_count": 24,
     "metadata": {},
     "output_type": "execute_result"
    }
   ],
   "source": [
    "dcdrho.shape"
   ]
  },
  {
   "cell_type": "code",
   "execution_count": 25,
   "metadata": {},
   "outputs": [],
   "source": [
    "term2 = np.zeros((m*n,m*n))\n",
    "\n",
    "for i in range(m*n):\n",
    "    term2[i, :] = dFdrho[i,:] * dcdrho[i,0]"
   ]
  },
  {
   "cell_type": "markdown",
   "metadata": {},
   "source": [
    "## 3.\n",
    "\n",
    "### $$ \\frac{\\delta\\frac{1}{m}}{\\delta z}\\cdot \\frac{\\delta F}{\\delta z} $$\n",
    "\n",
    "### $$ \\frac{\\delta F}{\\delta z}\\cdot \\frac{\\delta}{\\delta z} (coefficient \\space array) $$"
   ]
  },
  {
   "cell_type": "code",
   "execution_count": 26,
   "metadata": {},
   "outputs": [],
   "source": [
    "dFdz = eye(n,k=1) + eye(n,k=-1)*-1 \n",
    "dFdz /= (2*dz)\n",
    "dFdz = dFdz.todense()"
   ]
  },
  {
   "cell_type": "markdown",
   "metadata": {},
   "source": [
    "dFdz : n x n matrix"
   ]
  },
  {
   "cell_type": "code",
   "execution_count": 27,
   "metadata": {},
   "outputs": [],
   "source": [
    "dcdz = (eye(n,k=1) + eye(n,k=-1)*-1 ) / (2*dz)\n",
    "dcdz = dcdz.todense()"
   ]
  },
  {
   "cell_type": "code",
   "execution_count": 29,
   "metadata": {},
   "outputs": [],
   "source": [
    "dcdzM =  np.zeros((m*n, m*n))\n",
    "dFdzM = np.zeros((m*n, m*n))\n",
    "    \n",
    "for i in range(m):\n",
    "    dcdzM[i*n:n*(i+1), i*n:n*(i+1)] = dcdz\n",
    "    dFdzM[i*n:n*(i+1), i*n:n*(i+1)] = dFdz"
   ]
  },
  {
   "cell_type": "markdown",
   "metadata": {},
   "source": [
    "both are m*n x m*n matrix"
   ]
  },
  {
   "cell_type": "code",
   "execution_count": 30,
   "metadata": {},
   "outputs": [],
   "source": [
    "dcdzM *= me_array"
   ]
  },
  {
   "cell_type": "code",
   "execution_count": 31,
   "metadata": {},
   "outputs": [],
   "source": [
    "term3 = np.zeros((m*n,m*n))\n",
    "\n",
    "for i in range(m*n):\n",
    "    term3[i, :] = dFdzM[i,:] * dcdzM[i,0]"
   ]
  },
  {
   "cell_type": "markdown",
   "metadata": {},
   "source": [
    "## 4.\n",
    "\n",
    "### $$ \\frac{1}{\\rho m}\\frac{\\delta F}{\\delta \\rho} $$"
   ]
  },
  {
   "cell_type": "code",
   "execution_count": 32,
   "metadata": {},
   "outputs": [],
   "source": [
    "coeff_over_r = np.zeros((m*n,1))\n",
    "for j in range(1, m-1):\n",
    "    coeff_over_r[j*n: n*(j+1)] = me_array[j*n:n*(j+1)]/r[j]"
   ]
  },
  {
   "cell_type": "code",
   "execution_count": 33,
   "metadata": {},
   "outputs": [],
   "source": [
    "term4 = np.zeros((m*n,m*n))\n",
    "\n",
    "for i in range(m*n):\n",
    "    term4[i, :] = dFdrho[i,:] * coeff_over_r[i,0]"
   ]
  },
  {
   "cell_type": "markdown",
   "metadata": {},
   "source": [
    "### $$\\frac{dF(\\rho,z)}{d\\rho} =0 \\space \\space at \\rho=0 $$\n",
    "\n",
    "### $$ F(\\rho_1,z) = F(\\rho_2,z)  $$"
   ]
  },
  {
   "cell_type": "code",
   "execution_count": 34,
   "metadata": {},
   "outputs": [],
   "source": [
    "inhomo_lap = term1+term2+term3+term4\n",
    "inhomo_lap[n:2*n,n:2*n] += inhomo_lap[n:2*n,0:n]*(1)\n",
    "inhomo_lap[n:2*n,2*n:3*n] += inhomo_lap[n:2*n,0:n]*(0)\n",
    "inhomo_lap = inhomo_lap[n:m*n,n:m*n]\n",
    "inhomo_lap = csr_matrix(inhomo_lap)"
   ]
  },
  {
   "cell_type": "code",
   "execution_count": 35,
   "metadata": {},
   "outputs": [],
   "source": [
    "inhomo_lap = inhomo_lap /e  * hbar ** 2 / 2 * (-1) / emass"
   ]
  },
  {
   "cell_type": "code",
   "execution_count": 36,
   "metadata": {},
   "outputs": [],
   "source": [
    "V  = diags(cb_array[n:,0], 0)"
   ]
  },
  {
   "cell_type": "code",
   "execution_count": 37,
   "metadata": {},
   "outputs": [
    {
     "data": {
      "text/plain": [
       "array([-4.51690035+0.j, -4.10990585+0.j, -3.65902921+0.j, -3.62966788+0.j,\n",
       "       -3.36697009+0.j])"
      ]
     },
     "execution_count": 37,
     "metadata": {},
     "output_type": "execute_result"
    }
   ],
   "source": [
    "Hamiltonian = inhomo_lap + V\n",
    "eev, eef= eigs(Hamiltonian, 5, sigma = -5, which='LM')\n",
    "eev"
   ]
  },
  {
   "cell_type": "code",
   "execution_count": 38,
   "metadata": {},
   "outputs": [
    {
     "data": {
      "text/plain": [
       "(31, 62)"
      ]
     },
     "execution_count": 38,
     "metadata": {},
     "output_type": "execute_result"
    }
   ],
   "source": [
    "eef[:,0].reshape(m-1,n).shape"
   ]
  },
  {
   "cell_type": "code",
   "execution_count": 39,
   "metadata": {},
   "outputs": [
    {
     "data": {
      "text/plain": [
       "(32,)"
      ]
     },
     "execution_count": 39,
     "metadata": {},
     "output_type": "execute_result"
    }
   ],
   "source": [
    "r.shape"
   ]
  },
  {
   "cell_type": "code",
   "execution_count": 40,
   "metadata": {},
   "outputs": [
    {
     "name": "stderr",
     "output_type": "stream",
     "text": [
      "C:\\anaconda3\\lib\\site-packages\\numpy\\ma\\core.py:2788: ComplexWarning: Casting complex values to real discards the imaginary part\n",
      "  order=order, subok=True, ndmin=ndmin)\n"
     ]
    },
    {
     "data": {
      "text/plain": [
       "<matplotlib.contour.QuadContourSet at 0x296dad46c18>"
      ]
     },
     "execution_count": 40,
     "metadata": {},
     "output_type": "execute_result"
    },
    {
     "data": {
      "image/png": "[encoded data removed]",
      "text/plain": [
       "<Figure size 1080x360 with 5 Axes>"
      ]
     },
     "metadata": {
      "needs_background": "light"
     },
     "output_type": "display_data"
    }
   ],
   "source": [
    "fig, ((ax1, ax2, ax3, ax4, ax5)) = plt.subplots(1,5, figsize = (15,5))\n",
    "ax1.contourf(r[1:], z, eef[:,0].reshape(m-1,n).T)\n",
    "ax2.contourf(r[1:], z, eef[:,1].reshape(m-1,n).T)\n",
    "ax3.contourf(r[1:], z, eef[:,2].reshape(m-1,n).T)\n",
    "ax4.contourf(r[1:], z, eef[:,3].reshape(m-1,n).T)\n",
    "ax5.contourf(r[1:], z, eef[:,4].reshape(m-1,n).T)"
   ]
  }
 ],
 "metadata": {
  "kernelspec": {
   "display_name": "Python 3",
   "language": "python",
   "name": "python3"
  },
  "language_info": {
   "codemirror_mode": {
    "name": "ipython",
    "version": 3
   },
   "file_extension": ".py",
   "mimetype": "text/x-python",
   "name": "python",
   "nbconvert_exporter": "python",
   "pygments_lexer": "ipython3",
   "version": "3.7.1"
  },
  "varInspector": {
   "cols": {
    "lenName": 16,
    "lenType": 16,
    "lenVar": 40
   },
   "kernels_config": {
    "python": {
     "delete_cmd_postfix": "",
     "delete_cmd_prefix": "del ",
     "library": "var_list.py",
     "varRefreshCmd": "print(var_dic_list())"
    },
    "r": {
     "delete_cmd_postfix": ") ",
     "delete_cmd_prefix": "rm(",
     "library": "var_list.r",
     "varRefreshCmd": "cat(var_dic_list()) "
    }
   },
   "types_to_exclude": [
    "module",
    "function",
    "builtin_function_or_method",
    "instance",
    "_Feature"
   ],
   "window_display": false
  }
 },
 "nbformat": 4,
 "nbformat_minor": 2
}
